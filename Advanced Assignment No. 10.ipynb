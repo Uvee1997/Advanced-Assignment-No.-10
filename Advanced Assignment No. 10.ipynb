{
 "cells": [
  {
   "cell_type": "markdown",
   "id": "87e0628e",
   "metadata": {},
   "source": [
    "1) What is difference between __getattr__ and __getattribute__ ?\n",
    "\n",
    ":- __getattr__ is called for attributes that don't actually exits on a class.\n",
    "   __getattribute__ is used to retrieve an attribute from an instances. "
   ]
  },
  {
   "cell_type": "markdown",
   "id": "3837502b",
   "metadata": {},
   "source": [
    "2) What is the difference between properties and descriptors ?\n",
    "\n",
    ":- Properties are high level application that is properties are implimented using descriptors.\n",
    "   Descriptors are low level mechanism that let you hook into an object's attribute being processed.  "
   ]
  },
  {
   "cell_type": "markdown",
   "id": "c778609c",
   "metadata": {},
   "source": [
    "3) What are the key differences in functionality between __getattr__ and __getattribute__, as well as\n",
    "   properties and descriptors ?\n",
    "    \n",
    ":- The key difference between __getattr__ & __getattribute__ is that __getattr__ is only invoked if attribute wasn't found\n",
    "   usual way where __getattribute__ is  is invoked before looking at the actual attributes on the object \n",
    "   and so can be tricky to implement correctly.  \n",
    "    "
   ]
  }
 ],
 "metadata": {
  "kernelspec": {
   "display_name": "Python 3 (ipykernel)",
   "language": "python",
   "name": "python3"
  },
  "language_info": {
   "codemirror_mode": {
    "name": "ipython",
    "version": 3
   },
   "file_extension": ".py",
   "mimetype": "text/x-python",
   "name": "python",
   "nbconvert_exporter": "python",
   "pygments_lexer": "ipython3",
   "version": "3.9.7"
  }
 },
 "nbformat": 4,
 "nbformat_minor": 5
}
